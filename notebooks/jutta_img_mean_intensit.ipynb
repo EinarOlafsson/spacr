{
 "cells": [
  {
   "cell_type": "code",
   "execution_count": 13,
   "id": "20f395cc-d1fc-4b99-a6c2-6a53f3d4b731",
   "metadata": {},
   "outputs": [
    {
     "name": "stdout",
     "output_type": "stream",
     "text": [
      "Mean intensities have been saved to /media/olafsson/Extreme SSD/PLEASE EXTRACT INTENSITY/mean_intensity.csv\n"
     ]
    }
   ],
   "source": [
    "import os\n",
    "import csv\n",
    "from PIL import Image\n",
    "import numpy as np\n",
    "\n",
    "def measure_mean_intensity_16bit(folder_path, output_csv='mean_intensity.csv', background_threshold=0):\n",
    "    \"\"\"\n",
    "    Measures the mean intensity of 16-bit grayscale images in a folder, excluding pixels below a given threshold.\n",
    "    \n",
    "    Parameters:\n",
    "    - folder_path: str, path to the folder containing the .tif images.\n",
    "    - output_csv: str, path to save the output CSV file.\n",
    "    - background_threshold: int, intensity threshold below which pixels are considered background and ignored.\n",
    "    \"\"\"\n",
    "    # List to store results\n",
    "    results = []\n",
    "\n",
    "    # Loop through all files in the folder\n",
    "    for filename in os.listdir(folder_path):\n",
    "        if filename.endswith('.tif') or filename.endswith('.tiff'):\n",
    "            if not filename.startswith('.'):\n",
    "                file_path = os.path.join(folder_path, filename)\n",
    "                \n",
    "                # Open the image in grayscale mode (Pillow will automatically handle 16-bit)\n",
    "                with Image.open(file_path) as img:\n",
    "                    # Convert to NumPy array\n",
    "                    img_array = np.array(img)\n",
    "\n",
    "\n",
    "                    # Ensure the image is 16-bit and handle big-endian format if necessary\n",
    "                    if img_array.dtype == '>u2':  # Big-endian 16-bit\n",
    "                        img_array = img_array.byteswap().newbyteorder()\n",
    "                    elif img_array.dtype != np.uint16:\n",
    "                        print(f\"Warning: {filename} is not 16-bit. Skipping.\")\n",
    "                        continue\n",
    "    \n",
    "                    # Ensure that we handle 16-bit images by checking the data type\n",
    "                    if img_array.dtype != np.uint16:\n",
    "                        print(f\"Warning: {filename} is not 16-bit. Skipping.\")\n",
    "                        continue\n",
    "    \n",
    "                    # Apply background threshold: mask out pixels below the threshold\n",
    "                    foreground_pixels = img_array[img_array >= background_threshold]\n",
    "    \n",
    "                    # Calculate mean intensity of foreground pixels\n",
    "                    if foreground_pixels.size > 0:\n",
    "                        mean_intensity = foreground_pixels.mean()\n",
    "                    else:\n",
    "                        mean_intensity = 0  # Set mean intensity to 0 if no pixels are above threshold\n",
    "    \n",
    "                    # Append filename and mean intensity to results\n",
    "                    results.append([filename, mean_intensity])\n",
    "    \n",
    "    # Write results to CSV\n",
    "    with open(output_csv, mode='w', newline='') as csv_file:\n",
    "        writer = csv.writer(csv_file)\n",
    "        writer.writerow(['Filename', 'Mean Intensity'])\n",
    "        writer.writerows(results)\n",
    "\n",
    "    print(f\"Mean intensities have been saved to {output_csv}\")\n",
    "\n",
    "folder = '/media/olafsson/Extreme SSD/PLEASE EXTRACT INTENSITY/'\n",
    "\n",
    "output_csv = os.path.join(folder, 'mean_intensity.csv')\n",
    "measure_mean_intensity_16bit(folder, output_csv)"
   ]
  },
  {
   "cell_type": "code",
   "execution_count": null,
   "id": "0ff6d83b-4ef1-4ae3-b8de-e2dd51203a8a",
   "metadata": {},
   "outputs": [],
   "source": []
  }
 ],
 "metadata": {
  "kernelspec": {
   "display_name": "spacr",
   "language": "python",
   "name": "spacr"
  },
  "language_info": {
   "codemirror_mode": {
    "name": "ipython",
    "version": 3
   },
   "file_extension": ".py",
   "mimetype": "text/x-python",
   "name": "python",
   "nbconvert_exporter": "python",
   "pygments_lexer": "ipython3",
   "version": "3.9.19"
  }
 },
 "nbformat": 4,
 "nbformat_minor": 5
}
