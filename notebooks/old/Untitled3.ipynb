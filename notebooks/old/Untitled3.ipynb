{
 "cells": [
  {
   "cell_type": "code",
   "execution_count": 4,
   "id": "90ac14ab",
   "metadata": {},
   "outputs": [],
   "source": [
    "import os\n",
    "import tarfile\n",
    "\n",
    "def extract_tar_bz2_files(folder_path):\n",
    "    \"\"\"\n",
    "    Extracts all .tar.bz2 files in the given folder into subfolders with the same name as the tar file.\n",
    "    \n",
    "    Parameters:\n",
    "        folder_path (str): Path to the folder containing .tar.bz2 files.\n",
    "    \"\"\"\n",
    "    if not os.path.isdir(folder_path):\n",
    "        raise ValueError(f\"The provided path '{folder_path}' is not a valid folder.\")\n",
    "    \n",
    "    # Iterate over files in the folder\n",
    "    for file_name in os.listdir(folder_path):\n",
    "        if file_name.endswith('.tar.bz2'):\n",
    "            file_path = os.path.join(folder_path, file_name)\n",
    "            extract_folder = os.path.join(folder_path, os.path.splitext(os.path.splitext(file_name)[0])[0])\n",
    "            \n",
    "            # Create the subfolder for extraction if it doesn't exist\n",
    "            os.makedirs(extract_folder, exist_ok=True)\n",
    "            \n",
    "            # Extract the tar.bz2 file\n",
    "            try:\n",
    "                with tarfile.open(file_path, 'r:bz2') as tar:\n",
    "                    tar.extractall(path=extract_folder)\n",
    "                print(f\"Extracted: {file_name} -> {extract_folder}\")\n",
    "            except Exception as e:\n",
    "                print(f\"Failed to extract {file_name}: {e}\")\n",
    "\n"
   ]
  },
  {
   "cell_type": "code",
   "execution_count": 5,
   "id": "ab6bffeb",
   "metadata": {},
   "outputs": [
    {
     "name": "stdout",
     "output_type": "stream",
     "text": [
      "Extracted: Brandon-GFP-DoseResponse-Plate3_20211015_182236.tar.bz2 -> /nas_mnt/carruthers/Einar/jonny/Brandon-GFP-DoseResponse-Plate3_20211015_182236\n",
      "Extracted: DRL-C-P2_20210714_193729.tar.bz2 -> /nas_mnt/carruthers/Einar/jonny/DRL-C-P2_20210714_193729\n",
      "Extracted: DRL-C-P10_20210804_142831.tar.bz2 -> /nas_mnt/carruthers/Einar/jonny/DRL-C-P10_20210804_142831\n",
      "Extracted: DRL-C-P4_20210722_131711.tar.bz2 -> /nas_mnt/carruthers/Einar/jonny/DRL-C-P4_20210722_131711\n",
      "Extracted: DRL-C-P5_20210726_154721.tar.bz2 -> /nas_mnt/carruthers/Einar/jonny/DRL-C-P5_20210726_154721\n",
      "Extracted: DRL-C-P15_20210811_110413.tar.bz2 -> /nas_mnt/carruthers/Einar/jonny/DRL-C-P15_20210811_110413\n",
      "Extracted: DRL-C-P9_20210803_155742.tar.bz2 -> /nas_mnt/carruthers/Einar/jonny/DRL-C-P9_20210803_155742\n",
      "Extracted: DRL-C-P16_20210812_182408.tar.bz2 -> /nas_mnt/carruthers/Einar/jonny/DRL-C-P16_20210812_182408\n",
      "Extracted: DRL-C-P9-1_20210804_100335.tar.bz2 -> /nas_mnt/carruthers/Einar/jonny/DRL-C-P9-1_20210804_100335\n",
      "Extracted: DRL-C-P8_20210802_154616.tar.bz2 -> /nas_mnt/carruthers/Einar/jonny/DRL-C-P8_20210802_154616\n",
      "Extracted: Brandon-GFP-DoseResponse-Plate2_20210916_171300.tar.bz2 -> /nas_mnt/carruthers/Einar/jonny/Brandon-GFP-DoseResponse-Plate2_20210916_171300\n",
      "Extracted: DRL-C-P12_20210806_191404.tar.bz2 -> /nas_mnt/carruthers/Einar/jonny/DRL-C-P12_20210806_191404\n",
      "Extracted: DRL-C-P6_20210728_100953.tar.bz2 -> /nas_mnt/carruthers/Einar/jonny/DRL-C-P6_20210728_100953\n",
      "Extracted: DRL-C-P1_20210713_152601.tar.bz2 -> /nas_mnt/carruthers/Einar/jonny/DRL-C-P1_20210713_152601\n",
      "Extracted: Brandon-GFP-DoseResponse-Plate1_20210915_152144.tar.bz2 -> /nas_mnt/carruthers/Einar/jonny/Brandon-GFP-DoseResponse-Plate1_20210915_152144\n",
      "Extracted: DRL-C-P13_20210807_153233.tar.bz2 -> /nas_mnt/carruthers/Einar/jonny/DRL-C-P13_20210807_153233\n",
      "Extracted: Brandon-GFP-DoseResponse-Plate3_20210917_150523.tar.bz2 -> /nas_mnt/carruthers/Einar/jonny/Brandon-GFP-DoseResponse-Plate3_20210917_150523\n",
      "Extracted: DRL-C-P14_20210808_140254.tar.bz2 -> /nas_mnt/carruthers/Einar/jonny/DRL-C-P14_20210808_140254\n",
      "Extracted: DRL-C-P17_20210813_132007.tar.bz2 -> /nas_mnt/carruthers/Einar/jonny/DRL-C-P17_20210813_132007\n",
      "Extracted: DRL-C-P3_20210723_094949.tar.bz2 -> /nas_mnt/carruthers/Einar/jonny/DRL-C-P3_20210723_094949\n",
      "Extracted: Brandon-GFP-DoseResponse-Plate1_20211013_144121.tar.bz2 -> /nas_mnt/carruthers/Einar/jonny/Brandon-GFP-DoseResponse-Plate1_20211013_144121\n",
      "Extracted: DRL-C-P7_20210730_160800.tar.bz2 -> /nas_mnt/carruthers/Einar/jonny/DRL-C-P7_20210730_160800\n",
      "Extracted: Brandon-GFP-DoseResponse-Plate2_20211014_092916.tar.bz2 -> /nas_mnt/carruthers/Einar/jonny/Brandon-GFP-DoseResponse-Plate2_20211014_092916\n",
      "Extracted: DRL-C-P11_20210805_155251.tar.bz2 -> /nas_mnt/carruthers/Einar/jonny/DRL-C-P11_20210805_155251\n"
     ]
    }
   ],
   "source": [
    "extract_tar_bz2_files('/nas_mnt/carruthers/Einar/jonny')"
   ]
  },
  {
   "cell_type": "code",
   "execution_count": null,
   "id": "7a937011",
   "metadata": {},
   "outputs": [],
   "source": []
  }
 ],
 "metadata": {
  "kernelspec": {
   "display_name": "spacr",
   "language": "python",
   "name": "spacr"
  },
  "language_info": {
   "codemirror_mode": {
    "name": "ipython",
    "version": 3
   },
   "file_extension": ".py",
   "mimetype": "text/x-python",
   "name": "python",
   "nbconvert_exporter": "python",
   "pygments_lexer": "ipython3",
   "version": "3.9.19"
  }
 },
 "nbformat": 4,
 "nbformat_minor": 5
}
