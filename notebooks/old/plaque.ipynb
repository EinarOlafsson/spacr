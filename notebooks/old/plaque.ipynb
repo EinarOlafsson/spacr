{
 "cells": [
  {
   "cell_type": "code",
   "execution_count": null,
   "id": "c08a1115",
   "metadata": {},
   "outputs": [],
   "source": [
    "def get_analyze_plaque_settings(settings):\n",
    "    settings.setdefault('src', 'path')\n",
    "    settings.setdefault('masks', True)\n",
    "    settings.setdefault('background', 200)\n",
    "    settings.setdefault('Signal_to_noise', 10)\n",
    "    settings.setdefault('CP_prob', 0)\n",
    "    settings.setdefault('diameter', 30)\n",
    "    settings.setdefault('batch_size', 50)\n",
    "    settings.setdefault('flow_threshold', 0.4)\n",
    "    settings.setdefault('save', True)\n",
    "    settings.setdefault('verbose', True)\n",
    "    settings.setdefault('resize', True)\n",
    "    settings.setdefault('target_height', 1120)\n",
    "    settings.setdefault('target_width', 1120)\n",
    "    settings.setdefault('rescale', False)\n",
    "    settings.setdefault('resample', False)\n",
    "    settings.setdefault('fill_in', True)\n",
    "    return settings"
   ]
  },
  {
   "cell_type": "markdown",
   "id": "10438205",
   "metadata": {},
   "source": [
    "# %matplotlib inline\n",
    "\n",
    "settings = {'src':'/nas_mnt/carruthers/Fengrong/Fengrong/Stiched_Tiffs',\n",
    "           'masks':True}\n",
    "\n",
    "from spacr.submodules import analyze_plaques\n",
    "\n",
    "analyze_plaques(settings)"
   ]
  },
  {
   "cell_type": "code",
   "execution_count": null,
   "id": "8bbf8278",
   "metadata": {},
   "outputs": [],
   "source": []
  }
 ],
 "metadata": {
  "kernelspec": {
   "display_name": "spacr",
   "language": "python",
   "name": "spacr"
  },
  "language_info": {
   "codemirror_mode": {
    "name": "ipython",
    "version": 3
   },
   "file_extension": ".py",
   "mimetype": "text/x-python",
   "name": "python",
   "nbconvert_exporter": "python",
   "pygments_lexer": "ipython3",
   "version": "3.9.19"
  }
 },
 "nbformat": 4,
 "nbformat_minor": 5
}
