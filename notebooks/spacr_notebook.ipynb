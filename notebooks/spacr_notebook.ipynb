{
 "cells": [
  {
   "cell_type": "code",
   "execution_count": null,
   "metadata": {},
   "outputs": [],
   "source": [
    "import spacr"
   ]
  },
  {
   "cell_type": "markdown",
   "metadata": {
    "id": "-KYaPm0H-CUs"
   },
   "source": [
    "## Generate cellpose masks"
   ]
  },
  {
   "cell_type": "code",
   "execution_count": null,
   "metadata": {
    "colab": {
     "base_uri": "https://localhost:8080/"
    },
    "id": "8bAJc0qt-CU0",
    "outputId": "07510211-6e89-4a44-af8b-9f63f23f9e46",
    "scrolled": true
   },
   "outputs": [],
   "source": [
    "# 1. Organize images into npy stacks.\n",
    "# 2. Preprocess images for object detection.\n",
    "# 3. Generate masks.\n",
    "\n",
    "settings = {'metadata_type':'cellvoyager',\n",
    "            'custom_regex':None,\n",
    "            'experiment':'exp',\n",
    "            'channels':[0,1,2,3],\n",
    "            'nucleus_channel':0,\n",
    "            'nucleus_background':100,\n",
    "            'nucleus_Signal_to_noise':10,\n",
    "            'nucleus_CP_prob':0,\n",
    "            'cell_channel':3,\n",
    "            'cell_background':100,\n",
    "            'cell_Signal_to_noise':10,\n",
    "            'cell_CP_prob':0,\n",
    "            'pathogen_channel':1,\n",
    "            'pathogen_background':200,\n",
    "            'pathogen_Signal_to_noise':5,\n",
    "            'pathogen_CP_prob':0,\n",
    "            'magnification':20,\n",
    "            'save':True,\n",
    "            'plot':False,\n",
    "            'preprocess':True,\n",
    "            'masks':True,\n",
    "            'batch_size':50,\n",
    "            'test_mode':False}\n",
    "\n",
    "src = 'path'\n",
    "spacr.core.preprocess_generate_masks(src, settings=settings)"
   ]
  },
  {
   "cell_type": "code",
   "execution_count": null,
   "metadata": {
    "scrolled": false
   },
   "outputs": [],
   "source": [
    "import matplotlib.pyplot as plt\n",
    "%matplotlib inline\n",
    "\n",
    "settings = {'include_noninfected':True, \n",
    "            'include_multiinfected':True,\n",
    "            'include_multinucleated':True,\n",
    "            'remove_background':False,\n",
    "            'filter_min_max':[[0,1000000],[0,1000000],[500,1000000]],\n",
    "            'channel_dims':[0,1,2,3],\n",
    "            'backgrounds':[100,100,100,100],\n",
    "            'cell_mask_dim':4,\n",
    "            'nucleus_mask_dim':5,\n",
    "            'pathogen_mask_dim':6,\n",
    "            'overlay_chans':[0,2,3],\n",
    "            'outline_thickness':3,\n",
    "            'outline_color':'gbr',\n",
    "            'overlay':True,\n",
    "            'normalization_percentiles':[1,99],\n",
    "            'normalize':True,\n",
    "            'print_object_number':True,\n",
    "            'nr':10,\n",
    "            'figuresize':20,\n",
    "            'cmap':'inferno',\n",
    "            'verbose':True}\n",
    "\n",
    "src = 'path'\n",
    "fig = spacr.plot.plot_merged(src, settings)"
   ]
  },
  {
   "cell_type": "code",
   "execution_count": null,
   "metadata": {
    "id": "0EaAEeHh6Dgf",
    "scrolled": true
   },
   "outputs": [],
   "source": [
    "# 1. Collect measurement data and save to database\n",
    "# 2. Generate single object images.\n",
    "\n",
    "src = 'path'\n",
    "settings = {'input_folder':src+'/merged',\n",
    "            'channels':[0,1,2,3],\n",
    "            'cell_mask_dim':4,\n",
    "            'cell_min_size':0,\n",
    "            'nucleus_mask_dim':5,\n",
    "            'nucleus_min_size':0,\n",
    "            'pathogen_mask_dim':6,\n",
    "            'pathogen_min_size':0,\n",
    "            'cytoplasm_min_size':0,\n",
    "            'save_png':True,\n",
    "            'crop_mode':['cell'],\n",
    "            'use_bounding_box':True,\n",
    "            'png_size':[[224,224]],\n",
    "            'normalize':[2,99],\n",
    "            'png_dims':[0,1,2],\n",
    "            'normalize_by':'fov', #'fov' or 'png'\n",
    "            'save_measurements':True,\n",
    "            'plot':False,\n",
    "            'plot_filtration':False,\n",
    "            'include_uninfected':False,\n",
    "            'test_mode':False}\n",
    "\n",
    "if __name__ == \"__main__\":\n",
    "    spacr.measure.measure_crop(settings)"
   ]
  },
  {
   "cell_type": "markdown",
   "metadata": {
    "id": "Q96OvGU06Dge"
   },
   "source": [
    "## Capture measurements and crop images"
   ]
  },
  {
   "cell_type": "code",
   "execution_count": null,
   "metadata": {
    "scrolled": false
   },
   "outputs": [],
   "source": [
    "# Calculate recruitment.\n",
    "from spacr.core import analyze_recruitment\n",
    "%matplotlib inline\n",
    "\n",
    "metadata_settings = {'target':'protein',\n",
    "                     'cell_types':['HeLa'],\n",
    "                     'cell_plate_metadata':None,\n",
    "                     'pathogen_types':['RHDku80WT', 'RHDku80Dgra64', 'RHDku80Dgra64D14', 'RHDhxg','RHDku80Dgra14'],\n",
    "                     'pathogen_plate_metadata':[['c1', 'c2', 'c3'],['c4','c5', 'c6', 'c7', 'c8','c9'], ['c10', 'c11', 'c12', 'c13', 'c14', 'c15'], ['c16','c17','c18'], ['c19', 'c20', 'c21', 'c22', 'c23', 'c24']],\n",
    "                     'treatments':['BR1', 'BR2', 'BR3'],\n",
    "                     'treatment_plate_metadata':[['c1', 'c4','c5','c10','c11','c16','c19','c20'],['c2','c6','c7','c12','c13','c17','c21','c22'],['c3','c8','c9','c14','c15','c18','c23','c24']],\n",
    "                     'metadata_types':'col',\n",
    "                     'channel_dims':[0,1,2,3],\n",
    "                     'cell_chann_dim':3,\n",
    "                     'cell_mask_dim':4,\n",
    "                     'nucleus_chann_dim':0,\n",
    "                     'nucleus_mask_dim':5,\n",
    "                     'pathogen_chann_dim':2,\n",
    "                     'pathogen_mask_dim':6,\n",
    "                     'channel_of_interest':2}\n",
    "                     \n",
    "advanced_settings = {'plot':True,\n",
    "                     'plot_nr':1,\n",
    "                     'plot_control':True,\n",
    "                     'figuresize':20,\n",
    "                     'remove_background':True,\n",
    "                     'backgrounds':100,\n",
    "                     'include_noninfected':False,\n",
    "                     'include_multiinfected':2,\n",
    "                     'include_multinucleated':False,\n",
    "                     'cells_per_well':100,\n",
    "                     'pathogen_size_range':[300,10000000],\n",
    "                     'nucleus_size_range':[750,10000000],\n",
    "                     'cell_size_range':[4000,10000000],\n",
    "                     'pathogen_intensity_range':[1000,10000000],\n",
    "                     'nucleus_intensity_range':[0,10000000],\n",
    "                     'cell_intensity_range':[0,10000000],\n",
    "                     'target_intensity_min':300}\n",
    "\n",
    "src = 'path'\n",
    "\n",
    "dfs = analyze_recruitment(src,metadata_settings,advanced_settings)"
   ]
  },
  {
   "cell_type": "markdown",
   "metadata": {
    "id": "5omn8uZR6Dgf"
   },
   "source": [
    "## Curate masks"
   ]
  },
  {
   "cell_type": "code",
   "execution_count": null,
   "metadata": {},
   "outputs": [],
   "source": []
  },
  {
   "cell_type": "markdown",
   "metadata": {
    "id": "Z9OaxDDd6Dgf"
   },
   "source": [
    "## Annotate Images"
   ]
  },
  {
   "cell_type": "code",
   "execution_count": null,
   "metadata": {
    "id": "5K-ur8HY6Dgf"
   },
   "outputs": [],
   "source": [
    "# Annotate single object images.\n",
    "from spacr.annotate_app import annotate\n",
    "\n",
    "src = 'path'\n",
    "annotate(db=src+'/measurements/measurements.db',\n",
    "         image_type=\"cell_png\", \n",
    "         channels=['r','g','b'],\n",
    "         annotation_column='test',\n",
    "         geom=\"3200x2000\", \n",
    "         img_size=(200, 200), \n",
    "         rows=10, \n",
    "         columns=18)"
   ]
  },
  {
   "cell_type": "markdown",
   "metadata": {
    "id": "wz71ho2N6Dgf"
   },
   "source": [
    "## Train CNN/Transformer model"
   ]
  },
  {
   "cell_type": "code",
   "execution_count": null,
   "metadata": {
    "id": "U71S2A698Mxj"
   },
   "outputs": [],
   "source": [
    "# Generate a tar file containing all images in the database (this can be very slow for large datasets)\n",
    "\n",
    "src = 'path'\n",
    "spacr.generate_dataset(db_path=src+'/measurements/measurements.db',\n",
    "                       dst='path',\n",
    "                       file_type='cell_png',\n",
    "                       experiment='test',\n",
    "                       sample=20)"
   ]
  },
  {
   "cell_type": "code",
   "execution_count": null,
   "metadata": {
    "id": "2LubCBIb8M0E"
   },
   "outputs": [],
   "source": [
    "# Generate train and test folders with class subfolders for training DL models.\n",
    "\n",
    "src = 'path'\n",
    "spacr.generate_training_dataset(db_path=src+'/measurements/measurements.db',\n",
    "                                dst=src+'train_data',\n",
    "                                mode='annotation', # annotation, recruitment or metadata\n",
    "                                annotation_column='test', # for mode = annotation\n",
    "                                annotated_classes=[1,2], # for mode = annotation\n",
    "                                classes=['nc','pc'], # for mode = annotation\n",
    "                                size=10, # number of images per class\n",
    "                                test_split=0.1,\n",
    "                                metadata_type_by='col',\n",
    "                                class_metadata=[['c1'],['c2']], # for mode = metadata\n",
    "                                channel_of_interest=3) # for mode = recruitment"
   ]
  },
  {
   "cell_type": "code",
   "execution_count": null,
   "metadata": {
    "id": "qxfOqexk8M2a"
   },
   "outputs": [],
   "source": [
    "#Train a torch model to classify images. If test is True, a model will be tested on the test set (generated in preveous steps)\n",
    "\n",
    "src = 'path'\n",
    "settings = {'train':True,\n",
    "            'test': False,\n",
    "            'classes':['nc','pc'],\n",
    "            'model_type':'maxvit_t',\n",
    "            'optimizer_type':'adamw',\n",
    "            'schedule':'reduce_lr_on_plateau', #reduce_lr_on_plateau, step_lr\n",
    "            'loss_type':'focal_loss', #binary_cross_entropy_with_logits, #focal_loss\n",
    "            'normalize':True,\n",
    "            'image_size':224,\n",
    "            'batch_size':12,\n",
    "            'epochs':2,\n",
    "            'val_split':0.1,\n",
    "            'train_mode':'erm',\n",
    "            'learning_rate':0.0001,\n",
    "            'weight_decay':0.00001,\n",
    "            'dropout_rate':0.1,\n",
    "            'init_weights':True,\n",
    "            'amsgrad':True,\n",
    "            'use_checkpoint':True,\n",
    "            'gradient_accumulation':True,\n",
    "            'gradient_accumulation_steps':4,\n",
    "            'intermedeate_save':True,\n",
    "            'pin_memory':True,\n",
    "            'num_workers':30,\n",
    "            'verbose':True}\n",
    "\n",
    "spacr.train_test_model(src, settings)"
   ]
  },
  {
   "cell_type": "code",
   "execution_count": null,
   "metadata": {
    "id": "VYovokSD8bvl"
   },
   "outputs": [],
   "source": [
    "#\n",
    "\n",
    "result_df = spacr.apply_model_to_tar(tar_path='path',\n",
    "                                     model_path='path', #this model is trained on nc vs pc, cells filtered on cell size, parasite size and recruitment >2 for nc and <2 for pc\n",
    "                                     file_type='cell_png',\n",
    "                                     image_size=224,\n",
    "                                     batch_size=12,\n",
    "                                     normalize=True,\n",
    "                                     preload='images',\n",
    "                                     num_workers=30,\n",
    "                                     verbose=True)"
   ]
  },
  {
   "cell_type": "code",
   "execution_count": null,
   "metadata": {
    "id": "y2pKrf7f8bx8"
   },
   "outputs": [],
   "source": [
    "#\n",
    "\n",
    "src = 'path'\n",
    "res_df = spacr.merge_pred_mes(src,\n",
    "                              pred_loc='path',\n",
    "                              target='protein',\n",
    "                              nucleus_dim=0,\n",
    "                              parasite_dim=2,\n",
    "                              cell_dim=3,\n",
    "                              channel_of_interest=1,\n",
    "                              parasite_size_min=0,\n",
    "                              nucleus_size_min=0,\n",
    "                              cell_size_min=0,\n",
    "                              parasite_min=0,\n",
    "                              nucleus_min=0,\n",
    "                              cell_min=0,\n",
    "                              target_min=0,\n",
    "                              mask_chans=[0,1,2],\n",
    "                              filter_data=False,\n",
    "                              include_noninfected=False,\n",
    "                              include_multiinfected=True, #bool or int\n",
    "                              include_multinucleated=True,\n",
    "                              cells_per_well=0,\n",
    "                              save_filtered_filelist=False,\n",
    "                              verbose=True)\n",
    "\n",
    "dv_loc = src+'/measurements/'\n",
    "spacr.generate_dependent_variable(df=res_df,\n",
    "                                  dv_loc=dv_loc,\n",
    "                                  pc_min=0.99,\n",
    "                                  nc_max=0.95,\n",
    "                                  agg_type='mean')"
   ]
  },
  {
   "cell_type": "code",
   "execution_count": null,
   "metadata": {
    "id": "waGmfC3q8b0a"
   },
   "outputs": [],
   "source": []
  },
  {
   "cell_type": "markdown",
   "metadata": {
    "id": "bMhp-qTN6Dgf"
   },
   "source": [
    "## Simulate pooled spatial phenotype screen"
   ]
  },
  {
   "cell_type": "code",
   "execution_count": null,
   "metadata": {
    "id": "ihOoKgSo6Dgg"
   },
   "outputs": [],
   "source": [
    "#For 1 simulation\n",
    "settings = {\n",
    "    'name':'test',\n",
    "    'variable':'none',\n",
    "    'src': 'path',\n",
    "    'plot': True,\n",
    "    'random_seed': True,\n",
    "    'nr_plates': 4,\n",
    "    'number_of_genes': 100,\n",
    "    'number_of_active_genes': 10,\n",
    "    'number_of_control_genes': 10,\n",
    "    'avg_genes_per_well': 5,\n",
    "    'sd_genes_per_well':2,\n",
    "    'avg_cells_per_well': 100,\n",
    "    'sd_cells_per_well':50,\n",
    "    'positive_mean': 0.8,\n",
    "    'positive_variance':0.15,\n",
    "    'negative_mean':0.2,\n",
    "    'negative_variance':0.15,\n",
    "    'avg_reads_per_gene': 1000,\n",
    "    'sd_reads_per_gene':500,\n",
    "    'sequencing_error': 0.1,\n",
    "    'well_ineq_coeff': 0.5,\n",
    "    'gene_ineq_coeff': 0.1,\n",
    "    'max_workers': 25}\n",
    "\n",
    "i=1\n",
    "spacr.run_and_save(i, settings, time_ls=[1], total_sims=1)"
   ]
  },
  {
   "cell_type": "code",
   "execution_count": null,
   "metadata": {
    "id": "ofY_4T5r8qbx"
   },
   "outputs": [],
   "source": [
    "#For multiple simulation\n",
    "\n",
    "#lopp over most variables\n",
    "avg_genes_per_well_ls = [10]\n",
    "avg_cells_per_well_ls = [100]\n",
    "positive_mean_ls = [0.8]\n",
    "avg_reads_per_gene_ls = [1000]\n",
    "sequencing_error_ls = [0.01]\n",
    "well_ineq_coeff_ls = [0.3] #lower mean more inequality (0-1)\n",
    "gene_ineq_coeff_ls = [0.8]\n",
    "nr_plates_ls = [8]\n",
    "number_of_genes_ls = [1384]\n",
    "number_of_active_genes_ls = [8]\n",
    "\n",
    "settings = {\n",
    "    'name':'plates_2_4_8',\n",
    "    'variable':'all',\n",
    "    'src': 'path',\n",
    "    'plot': True,\n",
    "    'random_seed': False,\n",
    "    'replicates':2,\n",
    "    'nr_plates': nr_plates_ls,\n",
    "    'number_of_genes': number_of_genes_ls,\n",
    "    'number_of_active_genes': number_of_active_genes_ls,\n",
    "    'number_of_control_genes': 30,\n",
    "    'avg_genes_per_well': avg_genes_per_well_ls,\n",
    "    'avg_cells_per_well': avg_cells_per_well_ls,\n",
    "    'positive_mean': positive_mean_ls,\n",
    "    'avg_reads_per_gene': avg_reads_per_gene_ls,\n",
    "    'sequencing_error': sequencing_error_ls,\n",
    "    'well_ineq_coeff': well_ineq_coeff_ls,\n",
    "    'gene_ineq_coeff': gene_ineq_coeff_ls,\n",
    "    'max_workers': 25}\n",
    "\n",
    "spacr.run_multiple_simulations(settings)"
   ]
  }
 ],
 "metadata": {
  "accelerator": "GPU",
  "colab": {
   "collapsed_sections": [
    "HrakTaa9-CUQ",
    "-KYaPm0H-CUs",
    "Q96OvGU06Dge",
    "5omn8uZR6Dgf",
    "Z9OaxDDd6Dgf",
    "wz71ho2N6Dgf",
    "bMhp-qTN6Dgf"
   ],
   "gpuType": "T4",
   "provenance": []
  },
  "kernelspec": {
   "display_name": "spacr",
   "language": "python",
   "name": "spacr"
  },
  "language_info": {
   "codemirror_mode": {
    "name": "ipython",
    "version": 3
   },
   "file_extension": ".py",
   "mimetype": "text/x-python",
   "name": "python",
   "nbconvert_exporter": "python",
   "pygments_lexer": "ipython3",
   "version": "3.9.18"
  }
 },
 "nbformat": 4,
 "nbformat_minor": 1
}
