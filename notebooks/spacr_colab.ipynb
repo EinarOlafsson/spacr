{
  "cells": [
    {
      "cell_type": "markdown",
      "metadata": {
        "id": "U_WCmrG5-CUL"
      },
      "source": [
        "# Running SpaCr in colab with a GPU\n",
        "\n",
        "Mount your google drive to access all your image files. This also ensures that the segmentations are saved to your google drive."
      ]
    },
    {
      "cell_type": "markdown",
      "metadata": {
        "id": "HrakTaa9-CUQ"
      },
      "source": [
        "## Installation\n",
        "\n",
        "Install spacr."
      ]
    },
    {
      "cell_type": "code",
      "execution_count": 1,
      "metadata": {
        "colab": {
          "base_uri": "https://localhost:8080/"
        },
        "id": "efSQoWFw-CUU",
        "outputId": "e681c76e-9f4b-4064-a7f3-d0a0950b7b6c",
        "scrolled": true
      },
      "outputs": [
        {
          "output_type": "stream",
          "name": "stdout",
          "text": [
            "Collecting cellpose\n",
            "  Downloading cellpose-3.0.6-py3-none-any.whl (204 kB)\n",
            "\u001b[2K     \u001b[90m━━━━━━━━━━━━━━━━━━━━━━━━━━━━━━━━━━━━━━━━\u001b[0m \u001b[32m204.4/204.4 kB\u001b[0m \u001b[31m2.0 MB/s\u001b[0m eta \u001b[36m0:00:00\u001b[0m\n",
            "\u001b[?25hRequirement already satisfied: numpy>=1.20.0 in /usr/local/lib/python3.10/dist-packages (from cellpose) (1.25.2)\n",
            "Requirement already satisfied: scipy in /usr/local/lib/python3.10/dist-packages (from cellpose) (1.11.4)\n",
            "Requirement already satisfied: natsort in /usr/local/lib/python3.10/dist-packages (from cellpose) (8.4.0)\n",
            "Requirement already satisfied: tifffile in /usr/local/lib/python3.10/dist-packages (from cellpose) (2024.2.12)\n",
            "Requirement already satisfied: tqdm in /usr/local/lib/python3.10/dist-packages (from cellpose) (4.66.2)\n",
            "Requirement already satisfied: numba>=0.53.0 in /usr/local/lib/python3.10/dist-packages (from cellpose) (0.58.1)\n",
            "Requirement already satisfied: llvmlite in /usr/local/lib/python3.10/dist-packages (from cellpose) (0.41.1)\n",
            "Requirement already satisfied: torch>=1.6 in /usr/local/lib/python3.10/dist-packages (from cellpose) (2.1.0+cu121)\n",
            "Requirement already satisfied: opencv-python-headless in /usr/local/lib/python3.10/dist-packages (from cellpose) (4.9.0.80)\n",
            "Collecting fastremap (from cellpose)\n",
            "  Downloading fastremap-1.14.1-cp310-cp310-manylinux_2_17_x86_64.manylinux2014_x86_64.whl (6.0 MB)\n",
            "\u001b[2K     \u001b[90m━━━━━━━━━━━━━━━━━━━━━━━━━━━━━━━━━━━━━━━━\u001b[0m \u001b[32m6.0/6.0 MB\u001b[0m \u001b[31m23.0 MB/s\u001b[0m eta \u001b[36m0:00:00\u001b[0m\n",
            "\u001b[?25hCollecting imagecodecs (from cellpose)\n",
            "  Downloading imagecodecs-2024.1.1-cp310-cp310-manylinux_2_17_x86_64.manylinux2014_x86_64.whl (39.6 MB)\n",
            "\u001b[2K     \u001b[90m━━━━━━━━━━━━━━━━━━━━━━━━━━━━━━━━━━━━━━━━\u001b[0m \u001b[32m39.6/39.6 MB\u001b[0m \u001b[31m12.9 MB/s\u001b[0m eta \u001b[36m0:00:00\u001b[0m\n",
            "\u001b[?25hCollecting roifile (from cellpose)\n",
            "  Downloading roifile-2024.1.10-py3-none-any.whl (16 kB)\n",
            "Requirement already satisfied: filelock in /usr/local/lib/python3.10/dist-packages (from torch>=1.6->cellpose) (3.13.1)\n",
            "Requirement already satisfied: typing-extensions in /usr/local/lib/python3.10/dist-packages (from torch>=1.6->cellpose) (4.10.0)\n",
            "Requirement already satisfied: sympy in /usr/local/lib/python3.10/dist-packages (from torch>=1.6->cellpose) (1.12)\n",
            "Requirement already satisfied: networkx in /usr/local/lib/python3.10/dist-packages (from torch>=1.6->cellpose) (3.2.1)\n",
            "Requirement already satisfied: jinja2 in /usr/local/lib/python3.10/dist-packages (from torch>=1.6->cellpose) (3.1.3)\n",
            "Requirement already satisfied: fsspec in /usr/local/lib/python3.10/dist-packages (from torch>=1.6->cellpose) (2023.6.0)\n",
            "Requirement already satisfied: triton==2.1.0 in /usr/local/lib/python3.10/dist-packages (from torch>=1.6->cellpose) (2.1.0)\n",
            "Requirement already satisfied: MarkupSafe>=2.0 in /usr/local/lib/python3.10/dist-packages (from jinja2->torch>=1.6->cellpose) (2.1.5)\n",
            "Requirement already satisfied: mpmath>=0.19 in /usr/local/lib/python3.10/dist-packages (from sympy->torch>=1.6->cellpose) (1.3.0)\n",
            "Installing collected packages: roifile, imagecodecs, fastremap, cellpose\n",
            "Successfully installed cellpose-3.0.6 fastremap-1.14.1 imagecodecs-2024.1.1 roifile-2024.1.10\n"
          ]
        }
      ],
      "source": [
        "!pip install cellpose"
      ]
    },
    {
      "cell_type": "markdown",
      "metadata": {
        "id": "j7uUatzC-CUY"
      },
      "source": [
        "Check CUDA version and that GPU is working in cellpose and import other libraries."
      ]
    },
    {
      "cell_type": "code",
      "execution_count": 2,
      "metadata": {
        "colab": {
          "base_uri": "https://localhost:8080/"
        },
        "id": "a8muq8KG-CUa",
        "outputId": "fcfc95f4-00a2-441a-aac8-ad37d92c49a5"
      },
      "outputs": [
        {
          "output_type": "stream",
          "name": "stdout",
          "text": [
            "nvcc: NVIDIA (R) Cuda compiler driver\n",
            "Copyright (c) 2005-2023 NVIDIA Corporation\n",
            "Built on Tue_Aug_15_22:02:13_PDT_2023\n",
            "Cuda compilation tools, release 12.2, V12.2.140\n",
            "Build cuda_12.2.r12.2/compiler.33191640_0\n",
            "Mon Mar 11 19:06:50 2024       \n",
            "+---------------------------------------------------------------------------------------+\n",
            "| NVIDIA-SMI 535.104.05             Driver Version: 535.104.05   CUDA Version: 12.2     |\n",
            "|-----------------------------------------+----------------------+----------------------+\n",
            "| GPU  Name                 Persistence-M | Bus-Id        Disp.A | Volatile Uncorr. ECC |\n",
            "| Fan  Temp   Perf          Pwr:Usage/Cap |         Memory-Usage | GPU-Util  Compute M. |\n",
            "|                                         |                      |               MIG M. |\n",
            "|=========================================+======================+======================|\n",
            "|   0  Tesla T4                       Off | 00000000:00:04.0 Off |                    0 |\n",
            "| N/A   34C    P8               9W /  70W |      0MiB / 15360MiB |      0%      Default |\n",
            "|                                         |                      |                  N/A |\n",
            "+-----------------------------------------+----------------------+----------------------+\n",
            "                                                                                         \n",
            "+---------------------------------------------------------------------------------------+\n",
            "| Processes:                                                                            |\n",
            "|  GPU   GI   CI        PID   Type   Process name                            GPU Memory |\n",
            "|        ID   ID                                                             Usage      |\n",
            "|=======================================================================================|\n",
            "|  No running processes found                                                           |\n",
            "+---------------------------------------------------------------------------------------+\n"
          ]
        }
      ],
      "source": [
        "!nvcc --version\n",
        "!nvidia-smi\n",
        "\n",
        "import os, shutil\n",
        "import numpy as np\n",
        "from glob import glob"
      ]
    },
    {
      "cell_type": "markdown",
      "metadata": {
        "id": "g1dO0Oia-CUk"
      },
      "source": [
        "Mount your google drive here if you want to load your own images:"
      ]
    },
    {
      "cell_type": "code",
      "execution_count": 3,
      "metadata": {
        "cellView": "form",
        "id": "1qyAEK7R-CUp",
        "colab": {
          "base_uri": "https://localhost:8080/"
        },
        "outputId": "d62134e0-bc27-4ba7-8d76-daef1951f4d9"
      },
      "outputs": [
        {
          "output_type": "stream",
          "name": "stdout",
          "text": [
            "Mounted at /content/gdrive\n"
          ]
        }
      ],
      "source": [
        "# #@markdown ###Run this cell to connect your Google Drive to Colab\n",
        "\n",
        "#@markdown * Click on the URL.\n",
        "\n",
        "#@markdown * Sign in your Google Account.\n",
        "\n",
        "#@markdown * Copy the authorization code.\n",
        "\n",
        "#@markdown * Enter the authorization code.\n",
        "\n",
        "#@markdown * Click on \"Files\" site on the right. Refresh the site. Your Google Drive folder should now be available here as \"drive\".\n",
        "\n",
        "#mounts user's Google Drive to Google Colab.\n",
        "\n",
        "from google.colab import drive\n",
        "drive.mount('/content/gdrive')"
      ]
    },
    {
      "cell_type": "markdown",
      "metadata": {
        "id": "-KYaPm0H-CUs"
      },
      "source": [
        "## Generate cellpose masks"
      ]
    },
    {
      "cell_type": "code",
      "execution_count": 6,
      "metadata": {
        "colab": {
          "base_uri": "https://localhost:8080/"
        },
        "id": "8bAJc0qt-CU0",
        "outputId": "07510211-6e89-4a44-af8b-9f63f23f9e46"
      },
      "outputs": [
        {
          "output_type": "stream",
          "name": "stdout",
          "text": [
            "/bin/bash: line 1: gui_mask: command not found\n"
          ]
        }
      ],
      "source": [
        "# 1. Organize images into npy stacks.\n",
        "# 2. Preprocess images for object detection.\n",
        "# 3. Generate masks.\n",
        "\n",
        "settings = {'metadata_type':'cellvoyager',\n",
        "            'experiment':'test',\n",
        "            'channels':[0,1,2,3],\n",
        "            'nucleus_channel':0,\n",
        "            'nucleus_background':200,\n",
        "            'nucleus_Signal_to_noise':10,\n",
        "            'nucleus_CP_prob':0,\n",
        "            'cell_channel':3,\n",
        "            'cell_background':200,\n",
        "            'cell_Signal_to_noise':10,\n",
        "            'cell_CP_prob':-1,\n",
        "            'pathogen_channel':2,\n",
        "            'pathogen_background':200,\n",
        "            'pathogen_Signal_to_noise':20,\n",
        "            'pathogen_CP_prob':-1,\n",
        "            'magnefication':20}\n",
        "\n",
        "advanced_settings = {'preprocess':True,\n",
        "                    'masks':True,\n",
        "                    'custom_regex':None,\n",
        "                    'save':True,\n",
        "                    'plot':False,\n",
        "                    'examples_to_plot':1,\n",
        "                    'batch_size':50,\n",
        "                    'randomize':True,\n",
        "                    'timelapse':False,\n",
        "                    'timelapse_displacement':None,\n",
        "                    'timelapse_memory':3,\n",
        "                    'timelapse_frame_limits':None,\n",
        "                    'timelapse_remove_transient':False,\n",
        "                    'timelapse_mode':'trackpy',\n",
        "                     'timelapse_objects':['cells'],\n",
        "                    'fps':2,\n",
        "                    'remove_background':True,\n",
        "                    'lower_quantile':0.01,\n",
        "                    'merge':False,\n",
        "                    'normalize_plots':True,\n",
        "                    'all_to_mip':False,\n",
        "                    'pick_slice':False,\n",
        "                    'skip_mode':None,\n",
        "                    'workers':30,\n",
        "                    'verbose':True}\n",
        "\n",
        "src = 'path'\n",
        "spacr.preprocess_generate_masks(src,settings=settings,advanced_settings=advanced_settings)"
      ]
    },
    {
      "cell_type": "markdown",
      "metadata": {
        "id": "Q96OvGU06Dge"
      },
      "source": [
        "## Capture measurements and crop images"
      ]
    },
    {
      "cell_type": "code",
      "execution_count": null,
      "metadata": {
        "id": "0EaAEeHh6Dgf"
      },
      "outputs": [],
      "source": [
        "# 1. Collect measurement data and save to database\n",
        "# 2. Generate single object images.\n",
        "\n",
        "src = 'path'\n",
        "\n",
        "settings = {'input_folder':src+'/merged',\n",
        "            'channels':[0,1,2,3],\n",
        "            'cell_mask_dim':4,\n",
        "            'cell_min_size':0,\n",
        "            'nuclei_mask_dim':5,\n",
        "            'nucleus_min_size':0,\n",
        "            'pathogen_mask_dim':6,\n",
        "            'pathogen_min_size':0,\n",
        "            'cytoplasm_min_size':0}\n",
        "\n",
        "advanced_settings = {'save_png':True,\n",
        "                     'crop_mode':['cell'],\n",
        "                     'use_bounding_box':True,\n",
        "                     'png_size':[[224,224]],\n",
        "                     'normalize':[2,99],\n",
        "                     'png_dims':[0,1,2],\n",
        "                     'normalize_by':'png', #'fov' or 'png'\n",
        "                     'save_measurements':True,\n",
        "                     'plot':False,\n",
        "                     'plot_filtration':False,\n",
        "                     'include_uninfected':False,\n",
        "                     'dialate_pngs':False,\n",
        "                     'dialate_png_ratios':[0.2],\n",
        "                     'timelapse':False,\n",
        "                     'timelapse_objects':'cell',\n",
        "                     'max_workers':30}\n",
        "\n",
        "annotation_settings = {'experiment':'test',\n",
        "                      'cells':'HeLa',\n",
        "                      'cell_loc':None,\n",
        "                      'pathogens':['dsag1','dgra14_1','dgra14_2','dgra14_3'],\n",
        "                      'pathogen_loc':[['c1','c2','c3','c13','c14','c15'],['c4','c5','c6','c16','c17','c18'],['c7','c8','c9','c19','c20','c21'],['c10','c11','c12','c22','c23','c24']],\n",
        "                      'treatments':['cm','lovastatin_20uM'],\n",
        "                      'treatment_loc':[['c1','c2','c3','c4','c5','c6','c7','c8','c9','c10','c11','c12'],['c13','c14','c15','c16','c17','c18','c19','c20','c21','c22','c23','c24']],\n",
        "                      'channel_of_interest':1,\n",
        "                      'compartments':['pathogen', 'cytoplasm'],\n",
        "                      'measurement':'mean_intensity',\n",
        "                      'nr_imgs':32,\n",
        "                      'um_per_pixel':0.1}\n",
        "\n",
        "if __name__ == \"__main__\":\n",
        "    spacr.measure_crop(settings, annotation_settings, advanced_settings)"
      ]
    },
    {
      "cell_type": "markdown",
      "metadata": {
        "id": "5omn8uZR6Dgf"
      },
      "source": [
        "## Curate masks"
      ]
    },
    {
      "cell_type": "code",
      "execution_count": null,
      "metadata": {
        "id": "Zao1j9c-6Dgf"
      },
      "outputs": [],
      "source": [
        "#must be run locally"
      ]
    },
    {
      "cell_type": "markdown",
      "metadata": {
        "id": "Z9OaxDDd6Dgf"
      },
      "source": [
        "## Annotate Images"
      ]
    },
    {
      "cell_type": "code",
      "execution_count": null,
      "metadata": {
        "id": "5K-ur8HY6Dgf"
      },
      "outputs": [],
      "source": [
        "#must be run locally"
      ]
    },
    {
      "cell_type": "markdown",
      "metadata": {
        "id": "wz71ho2N6Dgf"
      },
      "source": [
        "## Train CNN/Transformer model"
      ]
    },
    {
      "cell_type": "code",
      "source": [
        "# Generate a tar file containing all images in the database (this can be very slow for large datasets)\n",
        "\n",
        "src = 'path'\n",
        "spacr.generate_dataset(db_path=src+'/measurements/measurements.db',\n",
        "                       dst='path',\n",
        "                       file_type='cell_png',\n",
        "                       experiment='test',\n",
        "                       sample=20)"
      ],
      "metadata": {
        "id": "U71S2A698Mxj"
      },
      "execution_count": null,
      "outputs": []
    },
    {
      "cell_type": "code",
      "source": [
        "# Generate train and test folders with class subfolders for training DL models.\n",
        "\n",
        "src = 'path'\n",
        "spacr.generate_training_dataset(db_path=src+'/measurements/measurements.db',\n",
        "                                dst=src+'train_data',\n",
        "                                mode='annotation', # annotation, recruitment or metadata\n",
        "                                annotation_column='test', # for mode = annotation\n",
        "                                annotated_classes=[1,2], # for mode = annotation\n",
        "                                classes=['nc','pc'], # for mode = annotation\n",
        "                                size=10, # number of images per class\n",
        "                                test_split=0.1,\n",
        "                                metadata_type_by='col',\n",
        "                                class_metadata=[['c1'],['c2']], # for mode = metadata\n",
        "                                channel_of_interest=3) # for mode = recruitment"
      ],
      "metadata": {
        "id": "2LubCBIb8M0E"
      },
      "execution_count": null,
      "outputs": []
    },
    {
      "cell_type": "code",
      "source": [
        "#Train a torch model to classify images. If test is True, a model will be tested on the test set (generated in preveous steps)\n",
        "\n",
        "src = 'path'\n",
        "settings = {'train':True,\n",
        "            'test': False,\n",
        "            'classes':['nc','pc'],\n",
        "            'model_type':'maxvit_t',\n",
        "            'optimizer_type':'adamw',\n",
        "            'schedule':'reduce_lr_on_plateau', #reduce_lr_on_plateau, step_lr\n",
        "            'loss_type':'focal_loss', #binary_cross_entropy_with_logits, #focal_loss\n",
        "            'normalize':True,\n",
        "            'image_size':224,\n",
        "            'batch_size':12,\n",
        "            'epochs':2,\n",
        "            'val_split':0.1,\n",
        "            'train_mode':'erm',\n",
        "            'learning_rate':0.0001,\n",
        "            'weight_decay':0.00001,\n",
        "            'dropout_rate':0.1,\n",
        "            'init_weights':True,\n",
        "            'amsgrad':True,\n",
        "            'use_checkpoint':True,\n",
        "            'gradient_accumulation':True,\n",
        "            'gradient_accumulation_steps':4,\n",
        "            'intermedeate_save':True,\n",
        "            'pin_memory':True,\n",
        "            'num_workers':30,\n",
        "            'verbose':True}\n",
        "\n",
        "spacr.train_test_model(src, settings)"
      ],
      "metadata": {
        "id": "qxfOqexk8M2a"
      },
      "execution_count": null,
      "outputs": []
    },
    {
      "cell_type": "code",
      "source": [
        "#\n",
        "\n",
        "result_df = spacr.apply_model_to_tar(tar_path='path',\n",
        "                                     model_path='path', #this model is trained on nc vs pc, cells filtered on cell size, parasite size and recruitment >2 for nc and <2 for pc\n",
        "                                     file_type='cell_png',\n",
        "                                     image_size=224,\n",
        "                                     batch_size=12,\n",
        "                                     normalize=True,\n",
        "                                     preload='images',\n",
        "                                     num_workers=30,\n",
        "                                     verbose=True)"
      ],
      "metadata": {
        "id": "VYovokSD8bvl"
      },
      "execution_count": null,
      "outputs": []
    },
    {
      "cell_type": "code",
      "source": [
        "#\n",
        "\n",
        "src = 'path'\n",
        "res_df = spacr.merge_pred_mes(src,\n",
        "                              pred_loc='path',\n",
        "                              target='protein',\n",
        "                              nucleus_dim=0,\n",
        "                              parasite_dim=2,\n",
        "                              cell_dim=3,\n",
        "                              channel_of_interest=1,\n",
        "                              parasite_size_min=0,\n",
        "                              nucleus_size_min=0,\n",
        "                              cell_size_min=0,\n",
        "                              parasite_min=0,\n",
        "                              nucleus_min=0,\n",
        "                              cell_min=0,\n",
        "                              target_min=0,\n",
        "                              mask_chans=[0,1,2],\n",
        "                              filter_data=False,\n",
        "                              include_noninfected=False,\n",
        "                              include_multiinfected=True, #bool or int\n",
        "                              include_multinucleated=True,\n",
        "                              cells_per_well=0,\n",
        "                              save_filtered_filelist=False,\n",
        "                              verbose=True)\n",
        "\n",
        "dv_loc = src+'/measurements/'\n",
        "spacr.generate_dependent_variable(df=res_df,\n",
        "                                  dv_loc=dv_loc,\n",
        "                                  pc_min=0.99,\n",
        "                                  nc_max=0.95,\n",
        "                                  agg_type='mean')"
      ],
      "metadata": {
        "id": "y2pKrf7f8bx8"
      },
      "execution_count": null,
      "outputs": []
    },
    {
      "cell_type": "code",
      "source": [],
      "metadata": {
        "id": "waGmfC3q8b0a"
      },
      "execution_count": null,
      "outputs": []
    },
    {
      "cell_type": "markdown",
      "metadata": {
        "id": "bMhp-qTN6Dgf"
      },
      "source": [
        "## Simulate pooled spatial phenotype screen"
      ]
    },
    {
      "cell_type": "code",
      "execution_count": null,
      "metadata": {
        "id": "ihOoKgSo6Dgg"
      },
      "outputs": [],
      "source": [
        "#For 1 simulation\n",
        "settings = {\n",
        "    'name':'test',\n",
        "    'variable':'none',\n",
        "    'src': 'path',\n",
        "    'plot': True,\n",
        "    'random_seed': True,\n",
        "    'nr_plates': 4,\n",
        "    'number_of_genes': 100,\n",
        "    'number_of_active_genes': 10,\n",
        "    'number_of_control_genes': 10,\n",
        "    'avg_genes_per_well': 5,\n",
        "    'sd_genes_per_well':2,\n",
        "    'avg_cells_per_well': 100,\n",
        "    'sd_cells_per_well':50,\n",
        "    'positive_mean': 0.8,\n",
        "    'positive_variance':0.15,\n",
        "    'negative_mean':0.2,\n",
        "    'negative_variance':0.15,\n",
        "    'avg_reads_per_gene': 1000,\n",
        "    'sd_reads_per_gene':500,\n",
        "    'sequencing_error': 0.1,\n",
        "    'well_ineq_coeff': 0.5,\n",
        "    'gene_ineq_coeff': 0.1,\n",
        "    'max_workers': 25}\n",
        "\n",
        "i=1\n",
        "spacr.run_and_save(i, settings, time_ls=[1], total_sims=1)"
      ]
    },
    {
      "cell_type": "code",
      "source": [
        "#For multiple simulation\n",
        "\n",
        "#lopp over most variables\n",
        "avg_genes_per_well_ls = [10]\n",
        "avg_cells_per_well_ls = [100]\n",
        "positive_mean_ls = [0.8]\n",
        "avg_reads_per_gene_ls = [1000]\n",
        "sequencing_error_ls = [0.01]\n",
        "well_ineq_coeff_ls = [0.3] #lower mean more inequality (0-1)\n",
        "gene_ineq_coeff_ls = [0.8]\n",
        "nr_plates_ls = [8]\n",
        "number_of_genes_ls = [1384]\n",
        "number_of_active_genes_ls = [8]\n",
        "\n",
        "settings = {\n",
        "    'name':'plates_2_4_8',\n",
        "    'variable':'all',\n",
        "    'src': 'path',\n",
        "    'plot': True,\n",
        "    'random_seed': False,\n",
        "    'replicates':2,\n",
        "    'nr_plates': nr_plates_ls,\n",
        "    'number_of_genes': number_of_genes_ls,\n",
        "    'number_of_active_genes': number_of_active_genes_ls,\n",
        "    'number_of_control_genes': 30,\n",
        "    'avg_genes_per_well': avg_genes_per_well_ls,\n",
        "    'avg_cells_per_well': avg_cells_per_well_ls,\n",
        "    'positive_mean': positive_mean_ls,\n",
        "    'avg_reads_per_gene': avg_reads_per_gene_ls,\n",
        "    'sequencing_error': sequencing_error_ls,\n",
        "    'well_ineq_coeff': well_ineq_coeff_ls,\n",
        "    'gene_ineq_coeff': gene_ineq_coeff_ls,\n",
        "    'max_workers': 25}\n",
        "\n",
        "spacr.run_multiple_simulations(settings)"
      ],
      "metadata": {
        "id": "ofY_4T5r8qbx"
      },
      "execution_count": null,
      "outputs": []
    }
  ],
  "metadata": {
    "accelerator": "GPU",
    "colab": {
      "gpuType": "T4",
      "provenance": [],
      "collapsed_sections": [
        "HrakTaa9-CUQ",
        "-KYaPm0H-CUs",
        "Q96OvGU06Dge",
        "5omn8uZR6Dgf",
        "Z9OaxDDd6Dgf",
        "wz71ho2N6Dgf",
        "bMhp-qTN6Dgf"
      ]
    },
    "kernelspec": {
      "display_name": "Python 3 (ipykernel)",
      "language": "python",
      "name": "python3"
    },
    "language_info": {
      "codemirror_mode": {
        "name": "ipython",
        "version": 3
      },
      "file_extension": ".py",
      "mimetype": "text/x-python",
      "name": "python",
      "nbconvert_exporter": "python",
      "pygments_lexer": "ipython3",
      "version": "3.9.7"
    }
  },
  "nbformat": 4,
  "nbformat_minor": 0
}