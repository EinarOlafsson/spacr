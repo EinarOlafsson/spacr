{
 "cells": [
  {
   "cell_type": "code",
   "execution_count": null,
   "id": "d4a9ee23",
   "metadata": {},
   "outputs": [],
   "source": [
    "# generate cellpose dataset\n",
    "from spacr.io import prepare_cellpose_dataset\n",
    "\n",
    "input_root = 'path'\n",
    "\n",
    "prepare_cellpose_dataset(input_root, augment_data=True, train_fraction=0.8, n_jobs=None)"
   ]
  },
  {
   "cell_type": "code",
   "execution_count": null,
   "id": "3ab27931",
   "metadata": {},
   "outputs": [],
   "source": [
    "# train cellpose model\n",
    "from spacr.submodules import train_cellpose\n",
    "%matplotlib inline\n",
    "\n",
    "settings = {'src':'path',\n",
    "            'test':False,\n",
    "            'normalize':False,\n",
    "            'percentiles':None,\n",
    "            'invert':False,\n",
    "            'grayscale':True,\n",
    "            'rescale':False,\n",
    "            'circular':False,\n",
    "            'channels':[0,0],\n",
    "            'model_name':'test',\n",
    "            'model_type':'cyto',\n",
    "            'Signal_to_noise':10,\n",
    "            'background':200,\n",
    "            'remove_background':False,\n",
    "            'learning_rate':0.2,\n",
    "            'weight_decay':1e-05,\n",
    "            'batch_size':8,\n",
    "            'n_epochs':25000,\n",
    "            'from_scratch':False,\n",
    "            'diameter':30,\n",
    "            'resize':False,\n",
    "            'target_dimensions':1000,\n",
    "            'verbose':True}\n",
    "\n",
    "train_cellpose(settings)"
   ]
  }
 ],
 "metadata": {
  "kernelspec": {
   "display_name": "spacr",
   "language": "python",
   "name": "spacr"
  },
  "language_info": {
   "codemirror_mode": {
    "name": "ipython",
    "version": 3
   },
   "file_extension": ".py",
   "mimetype": "text/x-python",
   "name": "python",
   "nbconvert_exporter": "python",
   "pygments_lexer": "ipython3",
   "version": "3.9.19"
  }
 },
 "nbformat": 4,
 "nbformat_minor": 5
}
