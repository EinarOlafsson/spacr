{
 "cells": [
  {
   "cell_type": "code",
   "execution_count": null,
   "id": "c36d7507",
   "metadata": {
    "scrolled": false
   },
   "outputs": [],
   "source": [
    "from spacr.sequencing import generate_barecode_mapping\n",
    "\n",
    "settings = {'src': '/nas_mnt/carruthers/yifan/seq',\n",
    "            'regex': '^(?P<column>.{8})TGCTG.*TAAAC(?P<grna>.{20,21})AACTT.*AGAAG(?P<row_name>.{8}).*',\n",
    "            'target_sequence': 'TGCTGTTTCCAGCATAGCTCTTAAAC',\n",
    "            'offset_start': -8,\n",
    "            'expected_end': 89,\n",
    "            'column_csv': '/home/carruthers/Documents/barcodes/primers_3_column_barecodes.csv',\n",
    "            'grna_csv': '/home/carruthers/Documents/barcodes/grna_barcodes_RC.csv',\n",
    "            'row_csv': '/home/carruthers/Documents/barcodes/primers_3_row_barecodes_RC.csv',\n",
    "            'save_h5': True,\n",
    "            'comp_type': 'zlib',\n",
    "            'comp_level': 5,\n",
    "            'chunk_size': 10000,\n",
    "            'n_jobs': None,\n",
    "            'mode': 'paired',\n",
    "            'single_direction': 'R1',\n",
    "            'test': False,\n",
    "            'fill_na':True}\n",
    "\n",
    "#GCTAGTAAAAAACATGATAAC\n",
    "generate_barecode_mapping(settings)"
   ]
  },
  {
   "cell_type": "code",
   "execution_count": null,
   "id": "d6a39408",
   "metadata": {
    "scrolled": true
   },
   "outputs": [],
   "source": [
    "from spacr.sequencing import generate_barecode_mapping\n",
    "\n",
    "settings = {'src': '/home/carruthers/sequencing/seq_3/test',\n",
    "            'regex': '^(?P<column>.{8})TGCTG.*TAAAC(?P<grna>.{20,21})AACTT.*AGAAG(?P<row_name>.{8}).*',\n",
    "            'target_sequence': 'TGCTGTTTCCAGCATAGCTCTTAAAC',\n",
    "            'offset_start': -8,\n",
    "            'expected_end': 89,\n",
    "            'column_csv': '/home/carruthers/Documents/barcodes/primers_3_column_barecodes.csv',\n",
    "            'grna_csv': '/home/carruthers/Documents/barcodes/grna_barcodes_RC.csv',\n",
    "            'row_csv': '/home/carruthers/Documents/barcodes/primers_3_row_barecodes_RC.csv',\n",
    "            'save_h5': False,\n",
    "            'comp_type': 'zlib',\n",
    "            'comp_level': 5,\n",
    "            'chunk_size': 100000,\n",
    "            'n_jobs': None,\n",
    "            'mode': 'paired',\n",
    "            'single_direction': 'R1',\n",
    "            'test': False}\n",
    "\n",
    "generate_barecode_mapping(settings)"
   ]
  },
  {
   "cell_type": "code",
   "execution_count": null,
   "id": "2226e8db",
   "metadata": {},
   "outputs": [],
   "source": [
    "from spacr.sequencing import generate_barecode_mapping\n",
    "\n",
    "settings = {'src': '/home/carruthers/sequencing/seq_3',\n",
    "            'regex': '^(?P<column>.{8})TGCTG.*TAAAC(?P<grna>.{20,21})AACTT.*AGAAG(?P<row_name>.{8}).*',\n",
    "            'target_sequence': 'TGCTGTTTCCAGCATAGCTCTTAAAC',\n",
    "            'offset_start': -8,\n",
    "            'expected_end': 89,\n",
    "            'column_csv': '/home/carruthers/Documents/barcodes/primers_3_column_barecodes.csv',\n",
    "            'grna_csv': '/home/carruthers/Documents/barcodes/grna_barcodes_RC.csv',\n",
    "            'row_csv': '/home/carruthers/Documents/barcodes/primers_3_row_barecodes_RC.csv',\n",
    "            'save_h5': False,\n",
    "            'comp_type': 'zlib',\n",
    "            'comp_level': 5,\n",
    "            'chunk_size': 100000,\n",
    "            'n_jobs': None,\n",
    "            'mode': 'paired',\n",
    "            'single_direction': 'R1',\n",
    "            'test': False}\n",
    "\n",
    "generate_barecode_mapping(settings)"
   ]
  },
  {
   "cell_type": "code",
   "execution_count": null,
   "id": "3ab27931",
   "metadata": {},
   "outputs": [],
   "source": []
  }
 ],
 "metadata": {
  "kernelspec": {
   "display_name": "spacr",
   "language": "python",
   "name": "spacr"
  },
  "language_info": {
   "codemirror_mode": {
    "name": "ipython",
    "version": 3
   },
   "file_extension": ".py",
   "mimetype": "text/x-python",
   "name": "python",
   "nbconvert_exporter": "python",
   "pygments_lexer": "ipython3",
   "version": "3.9.19"
  }
 },
 "nbformat": 4,
 "nbformat_minor": 5
}
