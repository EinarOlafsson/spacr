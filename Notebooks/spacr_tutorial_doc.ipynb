{
 "cells": [
  {
   "cell_type": "markdown",
   "id": "6d466836",
   "metadata": {},
   "source": [
    "# spaCR GUI Pipeline Tutorial\n",
    "\n",
    "This notebook describes key functions in the `spacr` package. It explains what each function does, its input parameters, and provides example usage."
   ]
  },
  {
   "cell_type": "markdown",
   "id": "8d507315",
   "metadata": {},
   "source": [
    "## `preprocess_generate_masks` — `spacr.core`\n",
    "\n",
    "Preprocesses microscopy images and generates cell/nucleus/pathogen masks using Cellpose."
   ]
  },
  {
   "cell_type": "markdown",
   "id": "95464a02",
   "metadata": {},
   "source": [
    "### Key Parameters\n",
    "- `src`: Path to source folder with original images\n",
    "- `metadata_type`: Metadata type: 'cellvoyager', 'cq1', 'Nikon'\n",
    "- `custom_regex`: Regex pattern for custom filenames\n",
    "- `experiment`: Experiment name\n",
    "- `channels`: Image channel indices\n",
    "- `cell_channel`: Channel index for cell\n",
    "- `nucleus_channel`: Channel index for nucleus\n",
    "- `pathogen_channel`: Channel index for pathogen\n",
    "- `save`: Whether to save masks and measurements\n",
    "- `preprocess`: Run preprocessing\n",
    "- `masks`: Generate segmentation masks\n",
    "- `test_mode`: Run in test mode"
   ]
  },
  {
   "cell_type": "markdown",
   "id": "98edf8c8",
   "metadata": {},
   "source": [
    "### Example usage (not executed):\n",
    "```python\n",
    "from spacr.core import preprocess_generate_masks\n",
    "settings = { ... }\n",
    "preprocess_generate_masks(settings)\n",
    "```"
   ]
  },
  {
   "cell_type": "markdown",
   "id": "091bf091",
   "metadata": {},
   "source": [
    "## `measure_crop` — `spacr.measure`\n",
    "\n",
    "Measures segmented objects and optionally crops them into PNGs."
   ]
  },
  {
   "cell_type": "markdown",
   "id": "675eb004",
   "metadata": {},
   "source": [
    "### Key Parameters\n",
    "- `src`: Path to /merged images folder\n",
    "- `channels`: Image channels to use\n",
    "- `cell_mask_dim`: Dimension index for cell mask\n",
    "- `nucleus_mask_dim`: Dimension index for nucleus mask\n",
    "- `pathogen_mask_dim`: Dimension index for pathogen mask\n",
    "- `save_png`: Save cropped object PNGs\n",
    "- `crop_mode`: Which objects to crop\n",
    "- `png_size`: Output size of object images\n",
    "- `save_measurements`: Save measurements"
   ]
  },
  {
   "cell_type": "markdown",
   "id": "ca6c6994",
   "metadata": {},
   "source": [
    "### Example usage (not executed):\n",
    "```python\n",
    "from spacr.measure import measure_crop\n",
    "settings = { ... }\n",
    "measure_crop(settings)\n",
    "```"
   ]
  },
  {
   "cell_type": "markdown",
   "id": "7f86e8f6",
   "metadata": {},
   "source": [
    "## `generate_ml_scores` — `spacr.ml`\n",
    "\n",
    "Trains an ML model to classify cells based on measurements and visualizes results."
   ]
  },
  {
   "cell_type": "markdown",
   "id": "97e169fd",
   "metadata": {},
   "source": [
    "### Key Parameters\n",
    "- `src`: Path to source data\n",
    "- `model_type_ml`: Machine learning model type\n",
    "- `test_size`: Fraction of test data\n",
    "- `heatmap_feature`: Feature used in heatmaps\n",
    "- `positive_control`: Label for positive control wells\n",
    "- `negative_control`: Label for negative control wells\n",
    "- `remove_low_variance_features`: Drop low-variance features\n",
    "- `top_features`: Number of top features to visualize"
   ]
  },
  {
   "cell_type": "markdown",
   "id": "b1f3ac1e",
   "metadata": {},
   "source": [
    "### Example usage (not executed):\n",
    "```python\n",
    "from spacr.ml import generate_ml_scores\n",
    "settings = { ... }\n",
    "results = generate_ml_scores(settings)\n",
    "```"
   ]
  }
 ],
 "metadata": {
  "kernelspec": {
   "display_name": "Python 3 (ipykernel)",
   "language": "python",
   "name": "python3"
  },
  "language_info": {
   "codemirror_mode": {
    "name": "ipython",
    "version": 3
   },
   "file_extension": ".py",
   "mimetype": "text/x-python",
   "name": "python",
   "nbconvert_exporter": "python",
   "pygments_lexer": "ipython3",
   "version": "3.12.4"
  }
 },
 "nbformat": 4,
 "nbformat_minor": 5
}
