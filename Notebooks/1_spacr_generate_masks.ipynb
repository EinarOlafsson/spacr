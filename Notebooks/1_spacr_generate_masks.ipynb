{
 "cells": [
  {
   "cell_type": "code",
   "execution_count": null,
   "id": "2c78f9de",
   "metadata": {},
   "outputs": [],
   "source": [
    "from spacr.core import preprocess_generate_masks\n",
    "%matplotlib inline\n",
    "\n",
    "settings = {'src':'path', # (path) path to source folder (where origional images were stored)\n",
    "            'metadata_type':'cellvoyager', # (string) - type of fime name metadata (cellvoyager, cq1, Nikon)\n",
    "            'custom_regex':None, # (regex) - Regular expression if filename metadata not in metadata_type \n",
    "            'experiment':'screen', # (string) - Name of experiment\n",
    "            'channels':[0,1,2,3], # (list) - list of integers representing available channels\n",
    "            'cell_channel':3, # (integer or NoneType) - Cell image dimension \n",
    "            'cell_background':100, # (integer) - Background value in cell images\n",
    "            'cell_Signal_to_noise':10, # (integer) - Signal to noise ration for cell channel\n",
    "            'cell_CP_prob':-1, # (integer) - Cellpose Cell probability\n",
    "            'remove_background_cell':False, # (bool) - Set background to 0 for cell channel\n",
    "            'nucleus_channel':0, # (Optional, integer or NoneType) - Nucleus image dimension \n",
    "            'nucleus_background':200, # (Optional, integer) - Background value in nucleus images\n",
    "            'nucleus_Signal_to_noise':5, # (Optional, integer) - Signal to noise ration for nucleus channel\n",
    "            'nucleus_CP_prob':0, # (Optional, integer) - Cellpose Nucleus probability\n",
    "            'remove_background_nucleus':False, # (Optional, bool) - Set background to 0 for nucleus channel\n",
    "            'pathogen_model':None, # (Optional, path or NoneType) - Custom cellpose model path for pathogen detection\n",
    "            'pathogen_channel':2, # (Optional, integer or NoneType) - Pathogen image dimension \n",
    "            'pathogen_background':150, # (Optional, integer) - Background value in pathogen images\n",
    "            'pathogen_Signal_to_noise':6, # (Optional, integer) - Signal to noise ration for pathogen channel\n",
    "            'pathogen_CP_prob':-2, # (Optional, integer) - Cellpose pathogen probability\n",
    "            'remove_background_pathogen':True, # (Optional, bool) - Set background to 0 for pathogen channel\n",
    "            'consolidate':False,\n",
    "            'magnification':20, # (integer) - Objective magnefication used to aquire images (40, 60, 100)\n",
    "            'save':True, # (bool) - Save masks and object data to database\n",
    "            'preprocess':True, # (bool) - Preprocess images\n",
    "            'masks':True, # (bool) - Generate masks\n",
    "            'batch_size':100, # (bool) - Number of images to be normalized together and loaded onto the GPU\n",
    "            'filter':False, # (bool) - Filter objects based on size\n",
    "            'merge_pathogens':False, # (bool) - Merge pathogens that share > 75% perimiter\n",
    "            'plot':False, # (bool) - Plot normalized intensity and object images\n",
    "            'adjust_cells':True, # (bool) - If cell, nucleus and pathogen: merge cells that share a pathogen\n",
    "            'test_mode':False, # (bool) - Test settings in test mode before analyzing entire experiment\n",
    "            'test_images':100, # (integer) - Number of images to analyze in test mode\n",
    "            'random_test':True} # (bool) - Randomize images for test mode\n"
   ]
  },
  {
   "cell_type": "code",
   "execution_count": null,
   "id": "14d273bd-ebd0-46a5-8184-288fc73141f3",
   "metadata": {},
   "outputs": [],
   "source": [
    "settings['src'] = '/nas_mnt/CSA screen/screen_20250124_133156/plate1'\n",
    "preprocess_generate_masks(settings)"
   ]
  },
  {
   "cell_type": "code",
   "execution_count": null,
   "id": "7934d1cd-791b-42ff-a16e-6d360f4f1fc4",
   "metadata": {},
   "outputs": [],
   "source": [
    "from spacr.measure import measure_crop\n",
    "%matplotlib inline\n",
    "\n",
    "settings = {'src':'path', # (path) path to source folder (ens in /merged)\n",
    "            'channels':[0,1,2,3],# (list) - list of integers representing available channels\n",
    "            'cell_mask_dim':4, # (integer or NoneType) - Cell mask dimension \n",
    "            'cell_min_size':2000, # (integer) - minimum size in px2 of cell objects\n",
    "            'nucleus_mask_dim':5, # (integer or NoneType) - Nucleus mask dimension \n",
    "            'nucleus_min_size':1000, # (integer) - minimum size in px2 of nuclei objects\n",
    "            'pathogen_mask_dim':6, # (integer or NoneType) - Pathogen mask dimension \n",
    "            'pathogen_min_size':400, # (integer) - minimum size in px2 of pathogen objects\n",
    "            'cytoplasm_min_size':0, # (integer) - minimum size in px2 of cutoplasm (cell-(nucleus+pathogen)) objects\n",
    "            'save_png':True, # (bool) - save objects as PNGs\n",
    "            'crop_mode':['cell'], # (list) - Object(s) to be cropped into images ('cell', 'nuclei', 'pathogen')\n",
    "            'use_bounding_box':False, # (bool) - Use bounding box for cropped images instead of object area\n",
    "            'png_size':[[224,224]], # (list of lists) - size of single object pngs\n",
    "            'normalize':False, # (bool or list) - normalize PNGs to percentiles\n",
    "            'png_dims':[0,1,2], # (list) - Dimensions to include in PNG images\n",
    "            'normalize_by':'png', # (string) - If normalize, normalize to fov (field of view) or png \n",
    "            'save_measurements':True, # (bool) - Save measurements\n",
    "            'plot':False, # (bool) - plot images during analazys\n",
    "            'plot_filtration':False, # () - Plot filtration steps\n",
    "            'uninfected':False, # () - Include uninfected\n",
    "            'test_mode':False, # (bool) - Activate Test mode\n",
    "            'test_nr':10} # (integer) - Number of images to analyze in test mode"
   ]
  },
  {
   "cell_type": "code",
   "execution_count": null,
   "id": "c4247a75-11a5-4480-b912-58584bf16600",
   "metadata": {},
   "outputs": [],
   "source": [
    "settings['src'] = '/nas_mnt/CSA screen/screen_20250124_133156/plate1/merged'\n",
    "measure_crop(settings)"
   ]
  },
  {
   "cell_type": "code",
   "execution_count": null,
   "id": "bcd9bb72-7d1c-439a-9bc0-77e61fb2fb0f",
   "metadata": {},
   "outputs": [],
   "source": []
  }
 ],
 "metadata": {
  "kernelspec": {
   "display_name": "spacr",
   "language": "python",
   "name": "spacr"
  },
  "language_info": {
   "codemirror_mode": {
    "name": "ipython",
    "version": 3
   },
   "file_extension": ".py",
   "mimetype": "text/x-python",
   "name": "python",
   "nbconvert_exporter": "python",
   "pygments_lexer": "ipython3",
   "version": "3.9.19"
  }
 },
 "nbformat": 4,
 "nbformat_minor": 5
}
