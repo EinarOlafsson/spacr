{
 "cells": [
  {
   "cell_type": "code",
   "execution_count": 4,
   "id": "58c302c6-e6c5-468c-89cf-717df4cd9f63",
   "metadata": {},
   "outputs": [
    {
     "data": {
      "text/plain": [
       "{'1_mask.html': '\\n<!DOCTYPE html>\\n<html>\\n<head>\\n  <title>1. Generate Segmentation Masks</title>\\n  <style>\\n    body {\\n      font-family: Open Sans, sans-serif;\\n      padding: 2em;\\n    }\\n    h1 {\\n      text-align: center;\\n    }\\n    .subsection {\\n      margin-top: 40px;\\n    }\\n    .subsection h2 {\\n      border-bottom: 1px solid #ccc;\\n      padding-bottom: 5px;\\n    }\\n    .img-row {\\n      display: flex;\\n      flex-wrap: wrap;\\n      gap: 10px;\\n      justify-content: center;\\n    }\\n    .img-row img {\\n      width: 45%;\\n      max-width: 600px;\\n      border-radius: 10px;\\n      border: 2px solid #ccc;\\n    }\\n  </style>\\n</head>\\n<body>\\n\\n  <h1>1. Generate Segmentation Masks</h1>\\n\\n  <div class=\"subsection\">\\n    <h2>Graphical User Interface (GUI)</h2>\\n    <div class=\"img-row\">\\n      <img src=\"spacr/resources/tutorial/1_mask/gui/001_placeholder.png\" alt=\"Step 1 GUI\">\\n      <img src=\"spacr/resources/tutorial/1_mask/gui/002_placeholder.png\" alt=\"Step 2 GUI\">\\n      <img src=\"spacr/resources/tutorial/1_mask/gui/003_placeholder.png\" alt=\"Step 3 GUI\">\\n      <img src=\"spacr/resources/tutorial/1_mask/gui/004_placeholder.png\" alt=\"Step 4 GUI\">\\n    </div>\\n  </div>\\n\\n  <div class=\"subsection\">\\n    <h2>Notebook Workflow</h2>\\n    <div class=\"img-row\">\\n      <img src=\"spacr/resources/tutorial/1_mask/notebook/001_placeholder.png\" alt=\"Step 1 Notebook\">\\n      <img src=\"spacr/resources/tutorial/1_mask/notebook/002_placeholder.png\" alt=\"Step 2 Notebook\">\\n      <img src=\"spacr/resources/tutorial/1_mask/notebook/003_placeholder.png\" alt=\"Step 3 Notebook\">\\n      <img src=\"spacr/resources/tutorial/1_mask/notebook/004_placeholder.png\" alt=\"Step 4 Notebook\">\\n    </div>\\n  </div>\\n\\n</body>\\n</html>\\n',\n",
       " '2_measure.html': '\\n<!DOCTYPE html>\\n<html>\\n<head>\\n  <title>2. Measure & Crop Single Cells</title>\\n  <style>\\n    body {\\n      font-family: Open Sans, sans-serif;\\n      padding: 2em;\\n    }\\n    h1 {\\n      text-align: center;\\n    }\\n    .subsection {\\n      margin-top: 40px;\\n    }\\n    .subsection h2 {\\n      border-bottom: 1px solid #ccc;\\n      padding-bottom: 5px;\\n    }\\n    .img-row {\\n      display: flex;\\n      flex-wrap: wrap;\\n      gap: 10px;\\n      justify-content: center;\\n    }\\n    .img-row img {\\n      width: 45%;\\n      max-width: 600px;\\n      border-radius: 10px;\\n      border: 2px solid #ccc;\\n    }\\n  </style>\\n</head>\\n<body>\\n\\n  <h1>2. Measure & Crop Single Cells</h1>\\n\\n  <div class=\"subsection\">\\n    <h2>Graphical User Interface (GUI)</h2>\\n    <div class=\"img-row\">\\n      <img src=\"spacr/resources/tutorial/2_measure/gui/001_placeholder.png\" alt=\"Step 1 GUI\">\\n      <img src=\"spacr/resources/tutorial/2_measure/gui/002_placeholder.png\" alt=\"Step 2 GUI\">\\n      <img src=\"spacr/resources/tutorial/2_measure/gui/003_placeholder.png\" alt=\"Step 3 GUI\">\\n      <img src=\"spacr/resources/tutorial/2_measure/gui/004_placeholder.png\" alt=\"Step 4 GUI\">\\n    </div>\\n  </div>\\n\\n  <div class=\"subsection\">\\n    <h2>Notebook Workflow</h2>\\n    <div class=\"img-row\">\\n      <img src=\"spacr/resources/tutorial/2_measure/notebook/001_placeholder.png\" alt=\"Step 1 Notebook\">\\n      <img src=\"spacr/resources/tutorial/2_measure/notebook/002_placeholder.png\" alt=\"Step 2 Notebook\">\\n      <img src=\"spacr/resources/tutorial/2_measure/notebook/003_placeholder.png\" alt=\"Step 3 Notebook\">\\n      <img src=\"spacr/resources/tutorial/2_measure/notebook/004_placeholder.png\" alt=\"Step 4 Notebook\">\\n    </div>\\n  </div>\\n\\n</body>\\n</html>\\n',\n",
       " '3_classify.html': '\\n<!DOCTYPE html>\\n<html>\\n<head>\\n  <title>3. Classify Using ML/DL</title>\\n  <style>\\n    body {\\n      font-family: Open Sans, sans-serif;\\n      padding: 2em;\\n    }\\n    h1 {\\n      text-align: center;\\n    }\\n    .subsection {\\n      margin-top: 40px;\\n    }\\n    .subsection h2 {\\n      border-bottom: 1px solid #ccc;\\n      padding-bottom: 5px;\\n    }\\n    .img-row {\\n      display: flex;\\n      flex-wrap: wrap;\\n      gap: 10px;\\n      justify-content: center;\\n    }\\n    .img-row img {\\n      width: 45%;\\n      max-width: 600px;\\n      border-radius: 10px;\\n      border: 2px solid #ccc;\\n    }\\n  </style>\\n</head>\\n<body>\\n\\n  <h1>3. Classify Using ML/DL</h1>\\n\\n  <div class=\"subsection\">\\n    <h2>Graphical User Interface (GUI)</h2>\\n    <div class=\"img-row\">\\n      <img src=\"spacr/resources/tutorial/3_classify/gui/001_placeholder.png\" alt=\"Step 1 GUI\">\\n      <img src=\"spacr/resources/tutorial/3_classify/gui/002_placeholder.png\" alt=\"Step 2 GUI\">\\n      <img src=\"spacr/resources/tutorial/3_classify/gui/003_placeholder.png\" alt=\"Step 3 GUI\">\\n      <img src=\"spacr/resources/tutorial/3_classify/gui/004_placeholder.png\" alt=\"Step 4 GUI\">\\n    </div>\\n  </div>\\n\\n  <div class=\"subsection\">\\n    <h2>Notebook Workflow</h2>\\n    <div class=\"img-row\">\\n      <img src=\"spacr/resources/tutorial/3_classify/notebook/001_placeholder.png\" alt=\"Step 1 Notebook\">\\n      <img src=\"spacr/resources/tutorial/3_classify/notebook/002_placeholder.png\" alt=\"Step 2 Notebook\">\\n      <img src=\"spacr/resources/tutorial/3_classify/notebook/003_placeholder.png\" alt=\"Step 3 Notebook\">\\n      <img src=\"spacr/resources/tutorial/3_classify/notebook/004_placeholder.png\" alt=\"Step 4 Notebook\">\\n    </div>\\n  </div>\\n\\n</body>\\n</html>\\n',\n",
       " '4_map_barcodes.html': '\\n<!DOCTYPE html>\\n<html>\\n<head>\\n  <title>4. Map Barcodes from FASTQ</title>\\n  <style>\\n    body {\\n      font-family: Open Sans, sans-serif;\\n      padding: 2em;\\n    }\\n    h1 {\\n      text-align: center;\\n    }\\n    .subsection {\\n      margin-top: 40px;\\n    }\\n    .subsection h2 {\\n      border-bottom: 1px solid #ccc;\\n      padding-bottom: 5px;\\n    }\\n    .img-row {\\n      display: flex;\\n      flex-wrap: wrap;\\n      gap: 10px;\\n      justify-content: center;\\n    }\\n    .img-row img {\\n      width: 45%;\\n      max-width: 600px;\\n      border-radius: 10px;\\n      border: 2px solid #ccc;\\n    }\\n  </style>\\n</head>\\n<body>\\n\\n  <h1>4. Map Barcodes from FASTQ</h1>\\n\\n  <div class=\"subsection\">\\n    <h2>Graphical User Interface (GUI)</h2>\\n    <div class=\"img-row\">\\n      <img src=\"spacr/resources/tutorial/4_map_barcodes/gui/001_placeholder.png\" alt=\"Step 1 GUI\">\\n      <img src=\"spacr/resources/tutorial/4_map_barcodes/gui/002_placeholder.png\" alt=\"Step 2 GUI\">\\n      <img src=\"spacr/resources/tutorial/4_map_barcodes/gui/003_placeholder.png\" alt=\"Step 3 GUI\">\\n      <img src=\"spacr/resources/tutorial/4_map_barcodes/gui/004_placeholder.png\" alt=\"Step 4 GUI\">\\n    </div>\\n  </div>\\n\\n  <div class=\"subsection\">\\n    <h2>Notebook Workflow</h2>\\n    <div class=\"img-row\">\\n      <img src=\"spacr/resources/tutorial/4_map_barcodes/notebook/001_placeholder.png\" alt=\"Step 1 Notebook\">\\n      <img src=\"spacr/resources/tutorial/4_map_barcodes/notebook/002_placeholder.png\" alt=\"Step 2 Notebook\">\\n      <img src=\"spacr/resources/tutorial/4_map_barcodes/notebook/003_placeholder.png\" alt=\"Step 3 Notebook\">\\n      <img src=\"spacr/resources/tutorial/4_map_barcodes/notebook/004_placeholder.png\" alt=\"Step 4 Notebook\">\\n    </div>\\n  </div>\\n\\n</body>\\n</html>\\n',\n",
       " '5_regression.html': '\\n<!DOCTYPE html>\\n<html>\\n<head>\\n  <title>5. Perform Regression Analysis</title>\\n  <style>\\n    body {\\n      font-family: Open Sans, sans-serif;\\n      padding: 2em;\\n    }\\n    h1 {\\n      text-align: center;\\n    }\\n    .subsection {\\n      margin-top: 40px;\\n    }\\n    .subsection h2 {\\n      border-bottom: 1px solid #ccc;\\n      padding-bottom: 5px;\\n    }\\n    .img-row {\\n      display: flex;\\n      flex-wrap: wrap;\\n      gap: 10px;\\n      justify-content: center;\\n    }\\n    .img-row img {\\n      width: 45%;\\n      max-width: 600px;\\n      border-radius: 10px;\\n      border: 2px solid #ccc;\\n    }\\n  </style>\\n</head>\\n<body>\\n\\n  <h1>5. Perform Regression Analysis</h1>\\n\\n  <div class=\"subsection\">\\n    <h2>Graphical User Interface (GUI)</h2>\\n    <div class=\"img-row\">\\n      <img src=\"spacr/resources/tutorial/5_regression/gui/001_placeholder.png\" alt=\"Step 1 GUI\">\\n      <img src=\"spacr/resources/tutorial/5_regression/gui/002_placeholder.png\" alt=\"Step 2 GUI\">\\n      <img src=\"spacr/resources/tutorial/5_regression/gui/003_placeholder.png\" alt=\"Step 3 GUI\">\\n      <img src=\"spacr/resources/tutorial/5_regression/gui/004_placeholder.png\" alt=\"Step 4 GUI\">\\n    </div>\\n  </div>\\n\\n  <div class=\"subsection\">\\n    <h2>Notebook Workflow</h2>\\n    <div class=\"img-row\">\\n      <img src=\"spacr/resources/tutorial/5_regression/notebook/001_placeholder.png\" alt=\"Step 1 Notebook\">\\n      <img src=\"spacr/resources/tutorial/5_regression/notebook/002_placeholder.png\" alt=\"Step 2 Notebook\">\\n      <img src=\"spacr/resources/tutorial/5_regression/notebook/003_placeholder.png\" alt=\"Step 3 Notebook\">\\n      <img src=\"spacr/resources/tutorial/5_regression/notebook/004_placeholder.png\" alt=\"Step 4 Notebook\">\\n    </div>\\n  </div>\\n\\n</body>\\n</html>\\n'}"
      ]
     },
     "execution_count": 4,
     "metadata": {},
     "output_type": "execute_result"
    }
   ],
   "source": [
    "# Generate HTML content for all five tutorial sections\n",
    "tutorial_sections = [\n",
    "    (\"1_mask\", \"1. Generate Segmentation Masks\"),\n",
    "    (\"2_measure\", \"2. Measure & Crop Single Cells\"),\n",
    "    (\"3_classify\", \"3. Classify Using ML/DL\"),\n",
    "    (\"4_map_barcodes\", \"4. Map Barcodes from FASTQ\"),\n",
    "    (\"5_regression\", \"5. Perform Regression Analysis\"),\n",
    "]\n",
    "\n",
    "# Template for the HTML content\n",
    "html_template = \"\"\"\n",
    "<!DOCTYPE html>\n",
    "<html>\n",
    "<head>\n",
    "  <title>{title}</title>\n",
    "  <style>\n",
    "    body {{\n",
    "      font-family: Open Sans, sans-serif;\n",
    "      padding: 2em;\n",
    "    }}\n",
    "    h1 {{\n",
    "      text-align: center;\n",
    "    }}\n",
    "    .subsection {{\n",
    "      margin-top: 40px;\n",
    "    }}\n",
    "    .subsection h2 {{\n",
    "      border-bottom: 1px solid #ccc;\n",
    "      padding-bottom: 5px;\n",
    "    }}\n",
    "    .img-row {{\n",
    "      display: flex;\n",
    "      flex-wrap: wrap;\n",
    "      gap: 10px;\n",
    "      justify-content: center;\n",
    "    }}\n",
    "    .img-row img {{\n",
    "      width: 45%;\n",
    "      max-width: 600px;\n",
    "      border-radius: 10px;\n",
    "      border: 2px solid #ccc;\n",
    "    }}\n",
    "  </style>\n",
    "</head>\n",
    "<body>\n",
    "\n",
    "  <h1>{title}</h1>\n",
    "\n",
    "  <div class=\"subsection\">\n",
    "    <h2>Graphical User Interface (GUI)</h2>\n",
    "    <div class=\"img-row\">\n",
    "      <img src=\"spacr/resources/tutorial/{section}/gui/001_placeholder.png\" alt=\"Step 1 GUI\">\n",
    "      <img src=\"spacr/resources/tutorial/{section}/gui/002_placeholder.png\" alt=\"Step 2 GUI\">\n",
    "      <img src=\"spacr/resources/tutorial/{section}/gui/003_placeholder.png\" alt=\"Step 3 GUI\">\n",
    "      <img src=\"spacr/resources/tutorial/{section}/gui/004_placeholder.png\" alt=\"Step 4 GUI\">\n",
    "    </div>\n",
    "  </div>\n",
    "\n",
    "  <div class=\"subsection\">\n",
    "    <h2>Notebook Workflow</h2>\n",
    "    <div class=\"img-row\">\n",
    "      <img src=\"spacr/resources/tutorial/{section}/notebook/001_placeholder.png\" alt=\"Step 1 Notebook\">\n",
    "      <img src=\"spacr/resources/tutorial/{section}/notebook/002_placeholder.png\" alt=\"Step 2 Notebook\">\n",
    "      <img src=\"spacr/resources/tutorial/{section}/notebook/003_placeholder.png\" alt=\"Step 3 Notebook\">\n",
    "      <img src=\"spacr/resources/tutorial/{section}/notebook/004_placeholder.png\" alt=\"Step 4 Notebook\">\n",
    "    </div>\n",
    "  </div>\n",
    "\n",
    "</body>\n",
    "</html>\n",
    "\"\"\"\n",
    "\n",
    "# Create a dictionary of filenames and HTML contents\n",
    "html_files = {\n",
    "    f\"{section}.html\": html_template.format(title=title, section=section)\n",
    "    for section, title in tutorial_sections\n",
    "}\n",
    "\n",
    "html_files\n"
   ]
  }
 ],
 "metadata": {
  "kernelspec": {
   "display_name": "Python 3 (ipykernel)",
   "language": "python",
   "name": "python3"
  },
  "language_info": {
   "codemirror_mode": {
    "name": "ipython",
    "version": 3
   },
   "file_extension": ".py",
   "mimetype": "text/x-python",
   "name": "python",
   "nbconvert_exporter": "python",
   "pygments_lexer": "ipython3",
   "version": "3.12.4"
  }
 },
 "nbformat": 4,
 "nbformat_minor": 5
}
