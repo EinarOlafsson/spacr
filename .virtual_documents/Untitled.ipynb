import os

def _get_cellpose_channels_v2(src, nucleus_channel, pathogen_channel, cell_channel):
    cell_mask_path = os.path.join(src, 'masks', 'cell_mask_stack')
    nucleus_mask_path = os.path.join(src, 'masks', 'nucleus_mask_stack')
    pathogen_mask_path = os.path.join(src, 'masks', 'pathogen_mask_stack')

    if any(os.path.exists(p) for p in [cell_mask_path, nucleus_mask_path, pathogen_mask_path]):
        if any(c is None for c in [nucleus_channel, pathogen_channel, cell_channel]):
            print('Warning: Cellpose masks already exist. Unexpected behaviour if any channel is None while masks exist.')

    cellpose_channels = {}

    # Nucleus: always duplicated single channel
    if nucleus_channel is not None:
        cellpose_channels['nucleus'] = [nucleus_channel, nucleus_channel]

    # Pathogen: always duplicated single channel
    if pathogen_channel is not None:
        cellpose_channels['pathogen'] = [pathogen_channel, pathogen_channel]

    # Cell: prefer nucleus as second if available
    if cell_channel is not None:
        if nucleus_channel is not None:
            cellpose_channels['cell'] = [nucleus_channel, cell_channel]
        else:
            cellpose_channels['cell'] = [cell_channel, cell_channel]

    return cellpose_channels
    
def _get_cellpose_channels(src, nucleus_channel, pathogen_channel, cell_channel):

    cell_mask_path = os.path.join(src, 'masks', 'cell_mask_stack')
    nucleus_mask_path = os.path.join(src, 'masks', 'nucleus_mask_stack')
    pathogen_mask_path = os.path.join(src, 'masks', 'pathogen_mask_stack')


    if os.path.exists(cell_mask_path) or os.path.exists(nucleus_mask_path) or os.path.exists(pathogen_mask_path):
        if nucleus_channel is None or nucleus_channel is None or nucleus_channel is None:
            print('Warning: Cellpose masks already exist. Unexpected behaviour when setting any object dimention to None when the object masks have been created.')
        
    cellpose_channels = {}
    if not nucleus_channel is None:
        cellpose_channels['nucleus'] = [0,0]
        
    if not pathogen_channel is None:
        if not nucleus_channel is None:
            if not pathogen_channel is None:
                cellpose_channels['pathogen'] = [0,2]
            else:
                cellpose_channels['pathogen'] = [0,1]
        else:
            cellpose_channels['pathogen'] = [0,0]
        
    if not cell_channel is None:
        if not nucleus_channel is None:
            cellpose_channels['cell'] = [0,1]
        else:
            cellpose_channels['cell'] = [0,0]
            
    return cellpose_channels

def _get_cellpose_channels(src, nucleus_channel, pathogen_channel, cell_channel):
    cell_mask_path = os.path.join(src, 'masks', 'cell_mask_stack')
    nucleus_mask_path = os.path.join(src, 'masks', 'nucleus_mask_stack')
    pathogen_mask_path = os.path.join(src, 'masks', 'pathogen_mask_stack')

    if any(os.path.exists(p) for p in [cell_mask_path, nucleus_mask_path, pathogen_mask_path]):
        if any(c is None for c in [nucleus_channel, pathogen_channel, cell_channel]):
            print('Warning: Cellpose masks already exist. Unexpected behaviour if any channel is None while masks exist.')

    # Enforced order: nucleus → cell → pathogen
    logical_order = []
    if nucleus_channel is not None:
        logical_order.append(('nucleus', nucleus_channel))
    if cell_channel is not None:
        logical_order.append(('cell', cell_channel))
    if pathogen_channel is not None:
        logical_order.append(('pathogen', pathogen_channel))

    # Remove duplicate values while preserving first occurrence
    seen = set()
    ordered_channels = []
    for name, ch in logical_order:
        if ch not in seen:
            ordered_channels.append(ch)
            seen.add(ch)

    # Map actual channel values to capped indices
    remap = {ch: min(i, 2) for i, ch in enumerate(ordered_channels)}

    # Final channel assignments
    cellpose_channels = {}

    if nucleus_channel is not None:
        c = remap[nucleus_channel]
        cellpose_channels['nucleus'] = [c, c]

    if cell_channel is not None:
        c = remap[cell_channel]
        if nucleus_channel is not None:
            n = remap[nucleus_channel]
            cellpose_channels['cell'] = [n, c]
        else:
            cellpose_channels['cell'] = [c, c]

    if pathogen_channel is not None:
        c = remap[pathogen_channel]
        cellpose_channels['pathogen'] = [c, c]

    return cellpose_channels


src = ""
nucleus_channel = None
pathogen_channel = 6
cell_channel = 10

cellpose_channels = _get_cellpose_channels(src, nucleus_channel, pathogen_channel, cell_channel)

print("V3", cellpose_channels)



