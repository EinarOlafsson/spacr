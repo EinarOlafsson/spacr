import pandas as pd
import os


def compute_fraction_and_save(csv_path):
    # Read CSV with enforced dtype for count column
    df = pd.read_csv(
        csv_path,
        header=None,
        names=["row", "column", "gene", "count", "plate"],
        dtype={"count": str},  # read as str first to clean
        low_memory=False
    )

    # Convert 'count' to numeric, forcing errors to NaN
    df["count"] = pd.to_numeric(df["count"], errors="coerce")

    # Drop rows where count could not be converted
    df = df.dropna(subset=["count"])

    # Convert to integer
    df["count"] = df["count"].astype(int)

    # Create a unique well identifier
    df["well_id"] = df["plate"] + "_" + df["row"] + "_" + df["column"]

    # Compute total per well
    total_per_well = df.groupby("well_id")["count"].transform("sum")

    # Calculate fraction
    df["fraction"] = df["count"] / total_per_well

    # Drop helper column
    df.drop(columns=["well_id"], inplace=True)

    # Save output
    base, ext = os.path.splitext(csv_path)
    output_path = f"{base}_fraction.csv"
    df.to_csv(output_path, index=False)

    print(f"Saved: {output_path}")



compute_fraction_and_save("/home/olafsson/Desktop/spacr_submission/seq/seq_read_counts_all_plates.csv")


import pandas as pd
import os

def group_and_average_csv(csv_path, group_col, value_col):
    """
    Reads a CSV, groups by `group_col`, computes the mean of `value_col`,
    and saves the result as <original_name>_agg.csv.

    Args:
        csv_path (str): Path to the input CSV file.
        group_col (str): Column to group by.
        value_col (str): Column to average.
    """
    # Read CSV
    df = pd.read_csv(csv_path)

    # Ensure value_col is numeric
    df[value_col] = pd.to_numeric(df[value_col], errors='coerce')

    # Drop NaNs in value_col
    df = df.dropna(subset=[value_col])

    # Group and compute mean
    result = df.groupby(group_col, as_index=False)[value_col].mean()

    # Save result
    base, ext = os.path.splitext(csv_path)
    output_path = f"{base}_agg.csv"
    result.to_csv(output_path, index=False)

    print(f"Saved aggregated result to: {output_path}")



group_and_average_csv("/media/olafsson/einar/figures_methods/suplimental data/extended_data_5/g/ext_fig_5g_cell_count_regression_data.csv", group_col="prc", value_col="cell_count")



